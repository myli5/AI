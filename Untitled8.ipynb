{
  "nbformat": 4,
  "nbformat_minor": 0,
  "metadata": {
    "colab": {
      "provenance": [],
      "machine_shape": "hm",
      "gpuType": "A100",
      "authorship_tag": "ABX9TyMlaiJQTEw4nsPzfazhIrnh",
      "include_colab_link": true
    },
    "kernelspec": {
      "name": "python3",
      "display_name": "Python 3"
    },
    "language_info": {
      "name": "python"
    },
    "accelerator": "GPU"
  },
  "cells": [
    {
      "cell_type": "markdown",
      "metadata": {
        "id": "view-in-github",
        "colab_type": "text"
      },
      "source": [
        "<a href=\"https://colab.research.google.com/github/myli5/AI/blob/main/Untitled8.ipynb\" target=\"_parent\"><img src=\"https://colab.research.google.com/assets/colab-badge.svg\" alt=\"Open In Colab\"/></a>"
      ]
    },
    {
      "cell_type": "code",
      "execution_count": 1,
      "metadata": {
        "id": "Wuh1p23pXhgL"
      },
      "outputs": [],
      "source": [
        "# Treat the code snippet below like a black box, i.e., you don't have access to the value of the property argument and can just query f with different inputs.\n",
        "\n",
        "\n",
        "def f(x, property='constant'):\n",
        "\n",
        "    if property == 'constant':\n",
        "\n",
        "        # The output is a 1 regardless of the input; we can also make the output to be 0.\n",
        "\n",
        "        if x == 0:\n",
        "            return 1\n",
        "        elif x == 1:\n",
        "            return 1\n",
        "\n",
        "    if property == 'balanced':\n",
        "\n",
        "        # The output depends on the input.\n",
        "\n",
        "        if x == 0:\n",
        "            return 1\n",
        "        elif x == 1:\n",
        "            return 0"
      ]
    },
    {
      "cell_type": "code",
      "source": [
        "if f(0) == 0:\n",
        "    if f(1) == 0:\n",
        "        print('The function is constant')\n",
        "    elif f(1) == 1:\n",
        "        print('The function is balanced')\n",
        "\n",
        "elif f(0) == 1:\n",
        "    if f(1) == 1:\n",
        "        print('The function is constant')\n",
        "    elif f(1) == 0:\n",
        "        print('The function is balanced')"
      ],
      "metadata": {
        "colab": {
          "base_uri": "https://localhost:8080/"
        },
        "id": "4CpQdmIzY8hv",
        "outputId": "921aaa88-bf5b-46f0-e243-c78d26086ad8"
      },
      "execution_count": 2,
      "outputs": [
        {
          "output_type": "stream",
          "name": "stdout",
          "text": [
            "The function is constant\n"
          ]
        }
      ]
    },
    {
      "cell_type": "code",
      "source": [
        "!pip install cudaq"
      ],
      "metadata": {
        "colab": {
          "base_uri": "https://localhost:8080/"
        },
        "id": "nRqB73KxZFFb",
        "outputId": "ba868ca5-cde5-49ee-bfff-b51d0b3d7154"
      },
      "execution_count": 4,
      "outputs": [
        {
          "output_type": "stream",
          "name": "stdout",
          "text": [
            "Collecting cudaq\n",
            "  Downloading cudaq-0.9.1.tar.gz (9.0 kB)\n",
            "  Installing build dependencies ... \u001b[?25l\u001b[?25hdone\n",
            "  Getting requirements to build wheel ... \u001b[?25l\u001b[?25hdone\n",
            "  Preparing metadata (pyproject.toml) ... \u001b[?25l\u001b[?25hdone\n",
            "Collecting cuda-quantum-cu12==0.9.1 (from cudaq)\n",
            "  Downloading cuda_quantum_cu12-0.9.1-cp311-cp311-manylinux_2_28_x86_64.whl.metadata (8.7 kB)\n",
            "Collecting astpretty~=3.0 (from cuda-quantum-cu12==0.9.1->cudaq)\n",
            "  Downloading astpretty-3.0.0-py2.py3-none-any.whl.metadata (5.5 kB)\n",
            "Collecting cuquantum-python-cu12>=24.11 (from cuda-quantum-cu12==0.9.1->cudaq)\n",
            "  Downloading cuquantum_python_cu12-24.11.0-cp311-cp311-manylinux2014_x86_64.whl.metadata (7.4 kB)\n",
            "Requirement already satisfied: numpy>=1.24 in /usr/local/lib/python3.11/dist-packages (from cuda-quantum-cu12==0.9.1->cudaq) (1.26.4)\n",
            "Requirement already satisfied: scipy>=1.10.1 in /usr/local/lib/python3.11/dist-packages (from cuda-quantum-cu12==0.9.1->cudaq) (1.13.1)\n",
            "Requirement already satisfied: requests>=2.31 in /usr/local/lib/python3.11/dist-packages (from cuda-quantum-cu12==0.9.1->cudaq) (2.32.3)\n",
            "Requirement already satisfied: nvidia-cublas-cu12~=12.0 in /usr/local/lib/python3.11/dist-packages (from cuda-quantum-cu12==0.9.1->cudaq) (12.5.3.2)\n",
            "Requirement already satisfied: nvidia-cuda-runtime-cu12~=12.0 in /usr/local/lib/python3.11/dist-packages (from cuda-quantum-cu12==0.9.1->cudaq) (12.5.82)\n",
            "Requirement already satisfied: nvidia-cusolver-cu12~=11.4 in /usr/local/lib/python3.11/dist-packages (from cuda-quantum-cu12==0.9.1->cudaq) (11.6.3.83)\n",
            "Requirement already satisfied: nvidia-cuda-nvrtc-cu12~=12.0 in /usr/local/lib/python3.11/dist-packages (from cuda-quantum-cu12==0.9.1->cudaq) (12.5.82)\n",
            "Collecting custatevec-cu12~=1.7 (from cuquantum-python-cu12>=24.11->cuda-quantum-cu12==0.9.1->cudaq)\n",
            "  Downloading custatevec_cu12-1.7.0-py3-none-manylinux2014_x86_64.whl.metadata (2.2 kB)\n",
            "Collecting cutensornet-cu12~=2.6 (from cuquantum-python-cu12>=24.11->cuda-quantum-cu12==0.9.1->cudaq)\n",
            "  Downloading cutensornet_cu12-2.6.0-py3-none-manylinux2014_x86_64.whl.metadata (2.2 kB)\n",
            "Collecting cudensitymat-cu12~=0.0.5 (from cuquantum-python-cu12>=24.11->cuda-quantum-cu12==0.9.1->cudaq)\n",
            "  Downloading cudensitymat_cu12-0.0.5-py3-none-manylinux2014_x86_64.whl.metadata (2.3 kB)\n",
            "Requirement already satisfied: cupy-cuda12x>=13.0 in /usr/local/lib/python3.11/dist-packages (from cuquantum-python-cu12>=24.11->cuda-quantum-cu12==0.9.1->cudaq) (13.3.0)\n",
            "Requirement already satisfied: nvidia-nvjitlink-cu12 in /usr/local/lib/python3.11/dist-packages (from nvidia-cusolver-cu12~=11.4->cuda-quantum-cu12==0.9.1->cudaq) (12.5.82)\n",
            "Requirement already satisfied: nvidia-cusparse-cu12 in /usr/local/lib/python3.11/dist-packages (from nvidia-cusolver-cu12~=11.4->cuda-quantum-cu12==0.9.1->cudaq) (12.5.1.3)\n",
            "Requirement already satisfied: charset-normalizer<4,>=2 in /usr/local/lib/python3.11/dist-packages (from requests>=2.31->cuda-quantum-cu12==0.9.1->cudaq) (3.4.1)\n",
            "Requirement already satisfied: idna<4,>=2.5 in /usr/local/lib/python3.11/dist-packages (from requests>=2.31->cuda-quantum-cu12==0.9.1->cudaq) (3.10)\n",
            "Requirement already satisfied: urllib3<3,>=1.21.1 in /usr/local/lib/python3.11/dist-packages (from requests>=2.31->cuda-quantum-cu12==0.9.1->cudaq) (2.3.0)\n",
            "Requirement already satisfied: certifi>=2017.4.17 in /usr/local/lib/python3.11/dist-packages (from requests>=2.31->cuda-quantum-cu12==0.9.1->cudaq) (2024.12.14)\n",
            "Collecting cutensor-cu12<3,>=2.0.2 (from cudensitymat-cu12~=0.0.5->cuquantum-python-cu12>=24.11->cuda-quantum-cu12==0.9.1->cudaq)\n",
            "  Downloading cutensor_cu12-2.0.2-py3-none-manylinux2014_x86_64.whl.metadata (2.1 kB)\n",
            "Requirement already satisfied: fastrlock>=0.5 in /usr/local/lib/python3.11/dist-packages (from cupy-cuda12x>=13.0->cuquantum-python-cu12>=24.11->cuda-quantum-cu12==0.9.1->cudaq) (0.8.3)\n",
            "Downloading cuda_quantum_cu12-0.9.1-cp311-cp311-manylinux_2_28_x86_64.whl (117.6 MB)\n",
            "\u001b[2K   \u001b[90m━━━━━━━━━━━━━━━━━━━━━━━━━━━━━━━━━━━━━━━━\u001b[0m \u001b[32m117.6/117.6 MB\u001b[0m \u001b[31m19.6 MB/s\u001b[0m eta \u001b[36m0:00:00\u001b[0m\n",
            "\u001b[?25hDownloading astpretty-3.0.0-py2.py3-none-any.whl (4.9 kB)\n",
            "Downloading cuquantum_python_cu12-24.11.0-cp311-cp311-manylinux2014_x86_64.whl (5.4 MB)\n",
            "\u001b[2K   \u001b[90m━━━━━━━━━━━━━━━━━━━━━━━━━━━━━━━━━━━━━━━━\u001b[0m \u001b[32m5.4/5.4 MB\u001b[0m \u001b[31m114.2 MB/s\u001b[0m eta \u001b[36m0:00:00\u001b[0m\n",
            "\u001b[?25hDownloading cudensitymat_cu12-0.0.5-py3-none-manylinux2014_x86_64.whl (1.7 MB)\n",
            "\u001b[2K   \u001b[90m━━━━━━━━━━━━━━━━━━━━━━━━━━━━━━━━━━━━━━━━\u001b[0m \u001b[32m1.7/1.7 MB\u001b[0m \u001b[31m81.7 MB/s\u001b[0m eta \u001b[36m0:00:00\u001b[0m\n",
            "\u001b[?25hDownloading custatevec_cu12-1.7.0-py3-none-manylinux2014_x86_64.whl (38.6 MB)\n",
            "\u001b[2K   \u001b[90m━━━━━━━━━━━━━━━━━━━━━━━━━━━━━━━━━━━━━━━━\u001b[0m \u001b[32m38.6/38.6 MB\u001b[0m \u001b[31m57.2 MB/s\u001b[0m eta \u001b[36m0:00:00\u001b[0m\n",
            "\u001b[?25hDownloading cutensornet_cu12-2.6.0-py3-none-manylinux2014_x86_64.whl (2.3 MB)\n",
            "\u001b[2K   \u001b[90m━━━━━━━━━━━━━━━━━━━━━━━━━━━━━━━━━━━━━━━━\u001b[0m \u001b[32m2.3/2.3 MB\u001b[0m \u001b[31m91.0 MB/s\u001b[0m eta \u001b[36m0:00:00\u001b[0m\n",
            "\u001b[?25hDownloading cutensor_cu12-2.0.2-py3-none-manylinux2014_x86_64.whl (156.9 MB)\n",
            "\u001b[2K   \u001b[90m━━━━━━━━━━━━━━━━━━━━━━━━━━━━━━━━━━━━━━━━\u001b[0m \u001b[32m156.9/156.9 MB\u001b[0m \u001b[31m14.7 MB/s\u001b[0m eta \u001b[36m0:00:00\u001b[0m\n",
            "\u001b[?25hBuilding wheels for collected packages: cudaq\n",
            "  Building wheel for cudaq (pyproject.toml) ... \u001b[?25l\u001b[?25hdone\n",
            "  Created wheel for cudaq: filename=cudaq-0.9.1-py3-none-any.whl size=6787 sha256=ecdc0bcc934e0fce8148d8dd1095c36dd25c9b73b5430b38d6602231ede4af40\n",
            "  Stored in directory: /root/.cache/pip/wheels/b0/ee/32/0ac9053509c0ba31e4bac6122454996a9a4e4d6523b1918d04\n",
            "Successfully built cudaq\n",
            "Installing collected packages: cutensor-cu12, custatevec-cu12, cutensornet-cu12, cudensitymat-cu12, astpretty, cuquantum-python-cu12, cuda-quantum-cu12, cudaq\n",
            "Successfully installed astpretty-3.0.0 cuda-quantum-cu12-0.9.1 cudaq-0.9.1 cudensitymat-cu12-0.0.5 cuquantum-python-cu12-24.11.0 custatevec-cu12-1.7.0 cutensor-cu12-2.0.2 cutensornet-cu12-2.6.0\n"
          ]
        }
      ]
    },
    {
      "cell_type": "code",
      "source": [
        "# Import the CUDA-Q package and set the target to run on NVIDIA GPUs.\n",
        "\n",
        "import cudaq\n",
        "import numpy as np\n",
        "\n",
        "from typing import List\n",
        "\n",
        "cudaq.set_target(\"nvidia\")"
      ],
      "metadata": {
        "id": "q_6T_FwzY-dH"
      },
      "execution_count": 5,
      "outputs": []
    },
    {
      "cell_type": "code",
      "source": [
        "# Here we input the values of [f(0), f(1)] which allows us to represent constant or balanced functions.\n",
        "\n",
        "fx = [0, 1]"
      ],
      "metadata": {
        "id": "8nYe_5QRZPkD"
      },
      "execution_count": 6,
      "outputs": []
    },
    {
      "cell_type": "code",
      "source": [
        "# Let us now code up the circuit shown above following the state Psi after each step.\n",
        "\n",
        "qubit_count = 2\n",
        "\n",
        "\n",
        "@cudaq.kernel\n",
        "def kernel(fx: List[int]):\n",
        "    qubit_0 = cudaq.qubit()\n",
        "    qubit_1 = cudaq.qubit()\n",
        "\n",
        "    # Psi 0\n",
        "    x(qubit_1)\n",
        "\n",
        "    # Psi 1\n",
        "    h(qubit_0)\n",
        "    h(qubit_1)\n",
        "\n",
        "    # Psi 2 - oracle\n",
        "    if fx[0] == 1:\n",
        "        x.ctrl(qubit_0, qubit_1)\n",
        "        x(qubit_1)\n",
        "\n",
        "    if fx[1] == 1:\n",
        "        x.ctrl(qubit_0, qubit_1)\n",
        "\n",
        "    # Psi 3\n",
        "    h(qubit_0)\n",
        "\n",
        "    # Measure the qubit to yield if the function is constant or balanced.\n",
        "    mz(qubit_0)\n",
        "\n",
        "\n",
        "print(cudaq.draw(kernel, fx))\n",
        "\n",
        "result = cudaq.sample(kernel, fx, shots_count=1)\n",
        "\n",
        "if np.array(result)[0] == '0':\n",
        "    print('f(x) is a constant function')\n",
        "elif np.array(result)[0] == '1':\n",
        "    print('f(x) is a balanced function')"
      ],
      "metadata": {
        "colab": {
          "base_uri": "https://localhost:8080/"
        },
        "id": "HwCB70CkZS7f",
        "outputId": "28b5c984-33a7-4c0f-d6e4-b2b8d223a532"
      },
      "execution_count": 7,
      "outputs": [
        {
          "output_type": "stream",
          "name": "stdout",
          "text": [
            "     ╭───╮          ╭───╮\n",
            "q0 : ┤ h ├───────●──┤ h ├\n",
            "     ├───┤╭───╮╭─┴─╮╰───╯\n",
            "q1 : ┤ x ├┤ h ├┤ x ├─────\n",
            "     ╰───╯╰───╯╰───╯     \n",
            "\n",
            "f(x) is a balanced function\n"
          ]
        }
      ]
    },
    {
      "cell_type": "code",
      "source": [
        "import cudaq\n",
        "import numpy as np\n",
        "from typing import List\n",
        "\n",
        "\n",
        "@cudaq.kernel\n",
        "def quantum_fourier_transform(input_state: List[int]):\n",
        "    '''Args:\n",
        "    input_state (list[int]): specifies the input state to be Fourier transformed.  '''\n",
        "\n",
        "    qubit_count = len(input_state)\n",
        "\n",
        "    # Initialize qubits.\n",
        "    qubits = cudaq.qvector(qubit_count)\n",
        "\n",
        "    # Initialize the quantum circuit to the initial state.\n",
        "    for i in range(qubit_count):\n",
        "        if input_state[i] == 1:\n",
        "            x(qubits[i])\n",
        "\n",
        "    # Apply Hadamard gates and controlled rotation gates.\n",
        "    for i in range(qubit_count):\n",
        "        h(qubits[i])\n",
        "        for j in range(i + 1, qubit_count):\n",
        "            angle = (2 * np.pi) / (2**(j - i + 1))\n",
        "            cr1(angle, [qubits[j]], qubits[i])"
      ],
      "metadata": {
        "id": "LYq5dmnkZcSf"
      },
      "execution_count": 8,
      "outputs": []
    },
    {
      "cell_type": "code",
      "source": [
        "#Can be changed to 'nvidia' for single gpu, 'nvidia-mgpu' for multi-GPU or quantum hardware.\n",
        "cudaq.set_target(\"qpp-cpu\")\n",
        "\n",
        "# The state to which the QFT operation is applied to. The zeroth element in the list is the zeroth qubit.\n",
        "input_state = [1, 0, 1]\n",
        "\n",
        "# Number of decimal points to round up the statevector to.\n",
        "precision = 2\n",
        "\n",
        "# Draw the quantum circuit.\n",
        "print(cudaq.draw(quantum_fourier_transform, input_state))\n",
        "\n",
        "# Print the statevector to the specified precision\n",
        "statevector = np.array(cudaq.get_state(quantum_fourier_transform, input_state))\n",
        "print(np.round(statevector, precision))"
      ],
      "metadata": {
        "colab": {
          "base_uri": "https://localhost:8080/"
        },
        "id": "955aS0EwZmsu",
        "outputId": "acbe510a-7d08-4efc-874c-5cd8a9137e3d"
      },
      "execution_count": 9,
      "outputs": [
        {
          "output_type": "stream",
          "name": "stdout",
          "text": [
            "     ╭───╮╭───╮╭───────────╮╭────────────╮                       \n",
            "q0 : ┤ x ├┤ h ├┤ r1(1.571) ├┤ r1(0.7854) ├───────────────────────\n",
            "     ╰───╯╰───╯╰─────┬─────╯╰─────┬──────╯╭───╮╭───────────╮     \n",
            "q1 : ────────────────●────────────┼───────┤ h ├┤ r1(1.571) ├─────\n",
            "     ╭───╮                        │       ╰───╯╰─────┬─────╯╭───╮\n",
            "q2 : ┤ x ├────────────────────────●──────────────────●──────┤ h ├\n",
            "     ╰───╯                                                  ╰───╯\n",
            "\n",
            "[ 0.35+0.j   -0.25-0.25j  0.  +0.35j  0.25-0.25j -0.35+0.j    0.25+0.25j\n",
            " -0.  -0.35j -0.25+0.25j]\n"
          ]
        }
      ]
    },
    {
      "cell_type": "code",
      "source": [
        "# Define kernels for the Quantum Fourier Transform and the Inverse Quantum Fourier Transform\n",
        "@cudaq.kernel\n",
        "def quantum_fourier_transform2(qubits: cudaq.qview):\n",
        "    '''Args:\n",
        "    qubits (cudaq.qview): specifies the quantum register to which apply the QFT.'''\n",
        "    qubit_count = len(qubits)\n",
        "    # Apply Hadamard gates and controlled rotation gates.\n",
        "    for i in range(qubit_count):\n",
        "        h(qubits[i])\n",
        "        for j in range(i + 1, qubit_count):\n",
        "            angle = (2 * np.pi) / (2**(j - i + 1))\n",
        "            cr1(angle, [qubits[j]], qubits[i])\n",
        "\n",
        "@cudaq.kernel\n",
        "def inverse_qft(qubits: cudaq.qview):\n",
        "    '''Args:\n",
        "    qubits (cudaq.qview): specifies the quantum register to which apply the inverse QFT.'''\n",
        "    cudaq.adjoint(quantum_fourier_transform2, qubits)"
      ],
      "metadata": {
        "id": "ti0Vk3MRZpmZ"
      },
      "execution_count": 10,
      "outputs": []
    },
    {
      "cell_type": "code",
      "source": [
        "@cudaq.kernel\n",
        "def verification_example(input_state : List[int]):\n",
        "    '''Args:\n",
        "    input_state (list[int]): specifies the input state to be transformed with QFT and the inverse QFT.  '''\n",
        "    qubit_count = len(input_state)\n",
        "    # Initialize qubits.\n",
        "    qubits = cudaq.qvector(qubit_count)\n",
        "\n",
        "    # Initialize the quantum circuit to the initial state.\n",
        "    for i in range(qubit_count):\n",
        "        if input_state[i] == 1:\n",
        "            x(qubits[i])\n",
        "\n",
        "    # Apply the quantum Fourier Transform\n",
        "    quantum_fourier_transform2(qubits)\n",
        "\n",
        "    # Apply the inverse quantum Fourier Transform\n",
        "    inverse_qft(qubits)\n",
        "\n",
        "# The state to which the QFT operation is applied to. The zeroth element in the list is the zeroth qubit.\n",
        "input_state = [1, 0, 1]\n",
        "\n",
        "\n",
        "# Number of decimal points to round up the statevector to.\n",
        "precision = 2\n",
        "\n",
        "\n",
        "print(cudaq.draw(verification_example, input_state))\n",
        "\n",
        "# Print the statevector to the specified precision\n",
        "statevector = np.array(cudaq.get_state(verification_example, input_state))\n",
        "print(np.round(statevector, precision)) # The result should be the input state"
      ],
      "metadata": {
        "colab": {
          "base_uri": "https://localhost:8080/"
        },
        "id": "aHQpLJrBZuEb",
        "outputId": "25dc48d1-6990-4e6b-80d0-a945413a464d"
      },
      "execution_count": 11,
      "outputs": [
        {
          "output_type": "stream",
          "name": "stdout",
          "text": [
            "     ╭───╮╭───╮╭───────────╮╭────────────╮                            »\n",
            "q0 : ┤ x ├┤ h ├┤ r1(1.571) ├┤ r1(0.7854) ├────────────────────────────»\n",
            "     ╰───╯╰───╯╰─────┬─────╯╰─────┬──────╯╭───╮╭───────────╮          »\n",
            "q1 : ────────────────●────────────┼───────┤ h ├┤ r1(1.571) ├──────────»\n",
            "     ╭───╮                        │       ╰───╯╰─────┬─────╯╭───╮╭───╮»\n",
            "q2 : ┤ x ├────────────────────────●──────────────────●──────┤ h ├┤ h ├»\n",
            "     ╰───╯                                                  ╰───╯╰───╯»\n",
            "\n",
            "################################################################################\n",
            "\n",
            "                   ╭─────────────╮╭────────────╮╭───╮\n",
            "───────────────────┤ r1(-0.7854) ├┤ r1(-1.571) ├┤ h ├\n",
            "╭────────────╮╭───╮╰──────┬──────╯╰─────┬──────╯╰───╯\n",
            "┤ r1(-1.571) ├┤ h ├───────┼─────────────●────────────\n",
            "╰─────┬──────╯╰───╯       │                          \n",
            "──────●───────────────────●──────────────────────────\n",
            "                                                     \n",
            "\n",
            "[0.+0.j 0.+0.j 0.+0.j 0.+0.j 0.+0.j 1.+0.j 0.+0.j 0.+0.j]\n"
          ]
        }
      ]
    },
    {
      "cell_type": "code",
      "source": [
        "print(cudaq.__version__)"
      ],
      "metadata": {
        "colab": {
          "base_uri": "https://localhost:8080/"
        },
        "id": "MKeiAqhiaAFC",
        "outputId": "2d94b774-0fd4-407f-edbe-14dba442dcba"
      },
      "execution_count": 12,
      "outputs": [
        {
          "output_type": "stream",
          "name": "stdout",
          "text": [
            "CUDA-Q Version 0.9.1 (https://github.com/NVIDIA/cuda-quantum a3ab722eab7ba39ec81424278789fabca726c436)\n"
          ]
        }
      ]
    },
    {
      "cell_type": "code",
      "source": [
        "Cost Minimization"
      ],
      "metadata": {
        "id": "jOhkEMxHaHLH"
      },
      "execution_count": null,
      "outputs": []
    },
    {
      "cell_type": "code",
      "source": [
        "import cudaq\n",
        "from typing import List\n",
        "\n",
        "cudaq.set_target(\"nvidia\")"
      ],
      "metadata": {
        "id": "LvPQD5FraIVc"
      },
      "execution_count": 13,
      "outputs": []
    },
    {
      "cell_type": "code",
      "source": [
        "# Initialize a kernel/ ansatz and variational parameters.\n",
        "@cudaq.kernel\n",
        "def kernel(angles: List[float]):\n",
        "    # Allocate a qubit that is initialized to the |0> state.\n",
        "    qubit = cudaq.qubit()\n",
        "    # Define gates and the qubits they act upon.\n",
        "    rx(angles[0], qubit)\n",
        "    ry(angles[1], qubit)\n",
        "\n",
        "\n",
        "# Our Hamiltonian will be the Z expectation value of our qubit.\n",
        "hamiltonian = cudaq.spin.z(0)\n",
        "\n",
        "# Initial gate parameters which intialize the qubit in the zero state\n",
        "initial_parameters = [0, 0]\n",
        "\n",
        "print(cudaq.draw(kernel, initial_parameters))"
      ],
      "metadata": {
        "colab": {
          "base_uri": "https://localhost:8080/"
        },
        "id": "e8nJx8zjaLSp",
        "outputId": "e79ebf0f-8fec-434b-9440-d654efa9a880"
      },
      "execution_count": 14,
      "outputs": [
        {
          "output_type": "stream",
          "name": "stdout",
          "text": [
            "     ╭───────╮╭───────╮\n",
            "q0 : ┤ rx(0) ├┤ ry(0) ├\n",
            "     ╰───────╯╰───────╯\n",
            "\n"
          ]
        }
      ]
    },
    {
      "cell_type": "code",
      "source": [
        "cost_values = []\n",
        "\n",
        "\n",
        "def cost(parameters):\n",
        "    \"\"\"Returns the expectation value as our cost.\"\"\"\n",
        "    expectation_value = cudaq.observe(kernel, hamiltonian,\n",
        "                                      parameters).expectation()\n",
        "    cost_values.append(expectation_value)\n",
        "    return expectation_value"
      ],
      "metadata": {
        "id": "6yFtrCUZaOcC"
      },
      "execution_count": 15,
      "outputs": []
    },
    {
      "cell_type": "code",
      "source": [
        "# We see that the initial value of our cost function is one, demonstrating that our qubit is in the zero state\n",
        "initial_cost_value = cost(initial_parameters)\n",
        "print(initial_cost_value)"
      ],
      "metadata": {
        "colab": {
          "base_uri": "https://localhost:8080/"
        },
        "id": "fRoBXZR9aR-_",
        "outputId": "67629281-ffe6-455c-d43e-7056fabcbaad"
      },
      "execution_count": 16,
      "outputs": [
        {
          "output_type": "stream",
          "name": "stdout",
          "text": [
            "1.0\n"
          ]
        }
      ]
    },
    {
      "cell_type": "code",
      "source": [
        "# Define a CUDA-Q optimizer.\n",
        "optimizer = cudaq.optimizers.COBYLA()\n",
        "optimizer.initial_parameters = initial_parameters\n",
        "\n",
        "result = optimizer.optimize(dimensions=2, function=cost)"
      ],
      "metadata": {
        "id": "0dtELFYDaYrZ"
      },
      "execution_count": 17,
      "outputs": []
    },
    {
      "cell_type": "code",
      "source": [
        "%pip install matplotlib"
      ],
      "metadata": {
        "colab": {
          "base_uri": "https://localhost:8080/"
        },
        "id": "r_o_lzveacPZ",
        "outputId": "ecf082ff-cd1b-44b9-a06c-b876937d2437"
      },
      "execution_count": 18,
      "outputs": [
        {
          "output_type": "stream",
          "name": "stdout",
          "text": [
            "Requirement already satisfied: matplotlib in /usr/local/lib/python3.11/dist-packages (3.10.0)\n",
            "Requirement already satisfied: contourpy>=1.0.1 in /usr/local/lib/python3.11/dist-packages (from matplotlib) (1.3.1)\n",
            "Requirement already satisfied: cycler>=0.10 in /usr/local/lib/python3.11/dist-packages (from matplotlib) (0.12.1)\n",
            "Requirement already satisfied: fonttools>=4.22.0 in /usr/local/lib/python3.11/dist-packages (from matplotlib) (4.55.7)\n",
            "Requirement already satisfied: kiwisolver>=1.3.1 in /usr/local/lib/python3.11/dist-packages (from matplotlib) (1.4.8)\n",
            "Requirement already satisfied: numpy>=1.23 in /usr/local/lib/python3.11/dist-packages (from matplotlib) (1.26.4)\n",
            "Requirement already satisfied: packaging>=20.0 in /usr/local/lib/python3.11/dist-packages (from matplotlib) (24.2)\n",
            "Requirement already satisfied: pillow>=8 in /usr/local/lib/python3.11/dist-packages (from matplotlib) (11.1.0)\n",
            "Requirement already satisfied: pyparsing>=2.3.1 in /usr/local/lib/python3.11/dist-packages (from matplotlib) (3.2.1)\n",
            "Requirement already satisfied: python-dateutil>=2.7 in /usr/local/lib/python3.11/dist-packages (from matplotlib) (2.8.2)\n",
            "Requirement already satisfied: six>=1.5 in /usr/local/lib/python3.11/dist-packages (from python-dateutil>=2.7->matplotlib) (1.17.0)\n"
          ]
        }
      ]
    },
    {
      "cell_type": "code",
      "source": [
        "# Plotting how the value of the cost function decreases during the minimization procedure.\n",
        "import matplotlib.pyplot as plt\n",
        "\n",
        "x_values = list(range(len(cost_values)))\n",
        "y_values = cost_values\n",
        "\n",
        "plt.plot(x_values, y_values)\n",
        "\n",
        "plt.xlabel(\"Epochs\")\n",
        "plt.ylabel(\"Cost Value\")"
      ],
      "metadata": {
        "colab": {
          "base_uri": "https://localhost:8080/",
          "height": 466
        },
        "id": "bwD5eLt7aixt",
        "outputId": "ea8384d9-452f-45e2-e870-3a9a3f920c30"
      },
      "execution_count": 19,
      "outputs": [
        {
          "output_type": "execute_result",
          "data": {
            "text/plain": [
              "Text(0, 0.5, 'Cost Value')"
            ]
          },
          "metadata": {},
          "execution_count": 19
        },
        {
          "output_type": "display_data",
          "data": {
            "text/plain": [
              "<Figure size 640x480 with 1 Axes>"
            ],
            "image/png": "[encoded data removed]"
          },
          "metadata": {}
        }
      ]
    },
    {
      "cell_type": "code",
      "source": [
        "Variational Quantum Eigensolver"
      ],
      "metadata": {
        "id": "8kmMnYlMakMx"
      },
      "execution_count": null,
      "outputs": []
    },
    {
      "cell_type": "code",
      "source": [
        "!pip install openfermionpyscf==0.5 matplotlib==3.8.4 scipy==1.13.0"
      ],
      "metadata": {
        "colab": {
          "base_uri": "https://localhost:8080/",
          "height": 1000
        },
        "id": "T2c9NPUdapRb",
        "outputId": "bab5ca63-b205-421d-a19e-0200451d0da5"
      },
      "execution_count": 20,
      "outputs": [
        {
          "output_type": "stream",
          "name": "stdout",
          "text": [
            "Collecting openfermionpyscf==0.5\n",
            "  Downloading openfermionpyscf-0.5-py3-none-any.whl.metadata (6.9 kB)\n",
            "Collecting matplotlib==3.8.4\n",
            "  Downloading matplotlib-3.8.4-cp311-cp311-manylinux_2_17_x86_64.manylinux2014_x86_64.whl.metadata (5.8 kB)\n",
            "Collecting scipy==1.13.0\n",
            "  Downloading scipy-1.13.0-cp311-cp311-manylinux_2_17_x86_64.manylinux2014_x86_64.whl.metadata (60 kB)\n",
            "\u001b[2K     \u001b[90m━━━━━━━━━━━━━━━━━━━━━━━━━━━━━━━━━━━━━━━━\u001b[0m \u001b[32m60.6/60.6 kB\u001b[0m \u001b[31m5.7 MB/s\u001b[0m eta \u001b[36m0:00:00\u001b[0m\n",
            "\u001b[?25hCollecting openfermion>=0.5 (from openfermionpyscf==0.5)\n",
            "  Downloading openfermion-1.6.1-py3-none-any.whl.metadata (10 kB)\n",
            "Collecting pyscf (from openfermionpyscf==0.5)\n",
            "  Downloading pyscf-2.8.0-py3-none-manylinux_2_17_x86_64.manylinux2014_x86_64.whl.metadata (6.4 kB)\n",
            "Requirement already satisfied: pytest in /usr/local/lib/python3.11/dist-packages (from openfermionpyscf==0.5) (8.3.4)\n",
            "Requirement already satisfied: contourpy>=1.0.1 in /usr/local/lib/python3.11/dist-packages (from matplotlib==3.8.4) (1.3.1)\n",
            "Requirement already satisfied: cycler>=0.10 in /usr/local/lib/python3.11/dist-packages (from matplotlib==3.8.4) (0.12.1)\n",
            "Requirement already satisfied: fonttools>=4.22.0 in /usr/local/lib/python3.11/dist-packages (from matplotlib==3.8.4) (4.55.7)\n",
            "Requirement already satisfied: kiwisolver>=1.3.1 in /usr/local/lib/python3.11/dist-packages (from matplotlib==3.8.4) (1.4.8)\n",
            "Requirement already satisfied: numpy>=1.21 in /usr/local/lib/python3.11/dist-packages (from matplotlib==3.8.4) (1.26.4)\n",
            "Requirement already satisfied: packaging>=20.0 in /usr/local/lib/python3.11/dist-packages (from matplotlib==3.8.4) (24.2)\n",
            "Requirement already satisfied: pillow>=8 in /usr/local/lib/python3.11/dist-packages (from matplotlib==3.8.4) (11.1.0)\n",
            "Requirement already satisfied: pyparsing>=2.3.1 in /usr/local/lib/python3.11/dist-packages (from matplotlib==3.8.4) (3.2.1)\n",
            "Requirement already satisfied: python-dateutil>=2.7 in /usr/local/lib/python3.11/dist-packages (from matplotlib==3.8.4) (2.8.2)\n",
            "Collecting cirq-core~=1.0 (from openfermion>=0.5->openfermionpyscf==0.5)\n",
            "  Downloading cirq_core-1.4.1-py3-none-any.whl.metadata (1.8 kB)\n",
            "Collecting deprecation (from openfermion>=0.5->openfermionpyscf==0.5)\n",
            "  Downloading deprecation-2.1.0-py2.py3-none-any.whl.metadata (4.6 kB)\n",
            "Requirement already satisfied: h5py>=2.8 in /usr/local/lib/python3.11/dist-packages (from openfermion>=0.5->openfermionpyscf==0.5) (3.12.1)\n",
            "Requirement already satisfied: networkx in /usr/local/lib/python3.11/dist-packages (from openfermion>=0.5->openfermionpyscf==0.5) (3.4.2)\n",
            "Collecting pubchempy (from openfermion>=0.5->openfermionpyscf==0.5)\n",
            "  Downloading PubChemPy-1.0.4.tar.gz (29 kB)\n",
            "  Preparing metadata (setup.py) ... \u001b[?25l\u001b[?25hdone\n",
            "Requirement already satisfied: requests>=2.18 in /usr/local/lib/python3.11/dist-packages (from openfermion>=0.5->openfermionpyscf==0.5) (2.32.3)\n",
            "Requirement already satisfied: sympy in /usr/local/lib/python3.11/dist-packages (from openfermion>=0.5->openfermionpyscf==0.5) (1.13.1)\n",
            "Requirement already satisfied: six>=1.5 in /usr/local/lib/python3.11/dist-packages (from python-dateutil>=2.7->matplotlib==3.8.4) (1.17.0)\n",
            "Requirement already satisfied: setuptools in /usr/local/lib/python3.11/dist-packages (from pyscf->openfermionpyscf==0.5) (75.1.0)\n",
            "Requirement already satisfied: iniconfig in /usr/local/lib/python3.11/dist-packages (from pytest->openfermionpyscf==0.5) (2.0.0)\n",
            "Requirement already satisfied: pluggy<2,>=1.5 in /usr/local/lib/python3.11/dist-packages (from pytest->openfermionpyscf==0.5) (1.5.0)\n",
            "Requirement already satisfied: attrs>=21.3.0 in /usr/local/lib/python3.11/dist-packages (from cirq-core~=1.0->openfermion>=0.5->openfermionpyscf==0.5) (25.1.0)\n",
            "Collecting duet>=0.2.8 (from cirq-core~=1.0->openfermion>=0.5->openfermionpyscf==0.5)\n",
            "  Downloading duet-0.2.9-py3-none-any.whl.metadata (2.3 kB)\n",
            "Requirement already satisfied: pandas in /usr/local/lib/python3.11/dist-packages (from cirq-core~=1.0->openfermion>=0.5->openfermionpyscf==0.5) (2.2.2)\n",
            "Collecting sortedcontainers~=2.0 (from cirq-core~=1.0->openfermion>=0.5->openfermionpyscf==0.5)\n",
            "  Downloading sortedcontainers-2.4.0-py2.py3-none-any.whl.metadata (10 kB)\n",
            "Requirement already satisfied: typing-extensions>=4.2 in /usr/local/lib/python3.11/dist-packages (from cirq-core~=1.0->openfermion>=0.5->openfermionpyscf==0.5) (4.12.2)\n",
            "Requirement already satisfied: tqdm in /usr/local/lib/python3.11/dist-packages (from cirq-core~=1.0->openfermion>=0.5->openfermionpyscf==0.5) (4.67.1)\n",
            "Requirement already satisfied: charset-normalizer<4,>=2 in /usr/local/lib/python3.11/dist-packages (from requests>=2.18->openfermion>=0.5->openfermionpyscf==0.5) (3.4.1)\n",
            "Requirement already satisfied: idna<4,>=2.5 in /usr/local/lib/python3.11/dist-packages (from requests>=2.18->openfermion>=0.5->openfermionpyscf==0.5) (3.10)\n",
            "Requirement already satisfied: urllib3<3,>=1.21.1 in /usr/local/lib/python3.11/dist-packages (from requests>=2.18->openfermion>=0.5->openfermionpyscf==0.5) (2.3.0)\n",
            "Requirement already satisfied: certifi>=2017.4.17 in /usr/local/lib/python3.11/dist-packages (from requests>=2.18->openfermion>=0.5->openfermionpyscf==0.5) (2024.12.14)\n",
            "Requirement already satisfied: mpmath<1.4,>=1.1.0 in /usr/local/lib/python3.11/dist-packages (from sympy->openfermion>=0.5->openfermionpyscf==0.5) (1.3.0)\n",
            "Requirement already satisfied: pytz>=2020.1 in /usr/local/lib/python3.11/dist-packages (from pandas->cirq-core~=1.0->openfermion>=0.5->openfermionpyscf==0.5) (2024.2)\n",
            "Requirement already satisfied: tzdata>=2022.7 in /usr/local/lib/python3.11/dist-packages (from pandas->cirq-core~=1.0->openfermion>=0.5->openfermionpyscf==0.5) (2025.1)\n",
            "Downloading openfermionpyscf-0.5-py3-none-any.whl (16 kB)\n",
            "Downloading matplotlib-3.8.4-cp311-cp311-manylinux_2_17_x86_64.manylinux2014_x86_64.whl (11.6 MB)\n",
            "\u001b[2K   \u001b[90m━━━━━━━━━━━━━━━━━━━━━━━━━━━━━━━━━━━━━━━━\u001b[0m \u001b[32m11.6/11.6 MB\u001b[0m \u001b[31m61.3 MB/s\u001b[0m eta \u001b[36m0:00:00\u001b[0m\n",
            "\u001b[?25hDownloading scipy-1.13.0-cp311-cp311-manylinux_2_17_x86_64.manylinux2014_x86_64.whl (38.6 MB)\n",
            "\u001b[2K   \u001b[90m━━━━━━━━━━━━━━━━━━━━━━━━━━━━━━━━━━━━━━━━\u001b[0m \u001b[32m38.6/38.6 MB\u001b[0m \u001b[31m59.9 MB/s\u001b[0m eta \u001b[36m0:00:00\u001b[0m\n",
            "\u001b[?25hDownloading openfermion-1.6.1-py3-none-any.whl (1.2 MB)\n",
            "\u001b[2K   \u001b[90m━━━━━━━━━━━━━━━━━━━━━━━━━━━━━━━━━━━━━━━━\u001b[0m \u001b[32m1.2/1.2 MB\u001b[0m \u001b[31m4.2 MB/s\u001b[0m eta \u001b[36m0:00:00\u001b[0m\n",
            "\u001b[?25hDownloading pyscf-2.8.0-py3-none-manylinux_2_17_x86_64.manylinux2014_x86_64.whl (50.9 MB)\n",
            "\u001b[2K   \u001b[90m━━━━━━━━━━━━━━━━━━━━━━━━━━━━━━━━━━━━━━━━\u001b[0m \u001b[32m50.9/50.9 MB\u001b[0m \u001b[31m42.1 MB/s\u001b[0m eta \u001b[36m0:00:00\u001b[0m\n",
            "\u001b[?25hDownloading cirq_core-1.4.1-py3-none-any.whl (1.9 MB)\n",
            "\u001b[2K   \u001b[90m━━━━━━━━━━━━━━━━━━━━━━━━━━━━━━━━━━━━━━━━\u001b[0m \u001b[32m1.9/1.9 MB\u001b[0m \u001b[31m74.8 MB/s\u001b[0m eta \u001b[36m0:00:00\u001b[0m\n",
            "\u001b[?25hDownloading deprecation-2.1.0-py2.py3-none-any.whl (11 kB)\n",
            "Downloading duet-0.2.9-py3-none-any.whl (29 kB)\n",
            "Downloading sortedcontainers-2.4.0-py2.py3-none-any.whl (29 kB)\n",
            "Building wheels for collected packages: pubchempy\n",
            "  Building wheel for pubchempy (setup.py) ... \u001b[?25l\u001b[?25hdone\n",
            "  Created wheel for pubchempy: filename=PubChemPy-1.0.4-py3-none-any.whl size=13819 sha256=5247cbaa7741874cf4b333d74a3968ffef429e45fee00ee06ae8f9fcbd0eb7c0\n",
            "  Stored in directory: /root/.cache/pip/wheels/8b/e3/6c/3385b2db08b0985a87f5b117f98d0cb61a3ae3ca3bcbbd8307\n",
            "Successfully built pubchempy\n",
            "Installing collected packages: sortedcontainers, pubchempy, scipy, duet, deprecation, pyscf, matplotlib, cirq-core, openfermion, openfermionpyscf\n",
            "  Attempting uninstall: scipy\n",
            "    Found existing installation: scipy 1.13.1\n",
            "    Uninstalling scipy-1.13.1:\n",
            "      Successfully uninstalled scipy-1.13.1\n",
            "  Attempting uninstall: matplotlib\n",
            "    Found existing installation: matplotlib 3.10.0\n",
            "    Uninstalling matplotlib-3.10.0:\n",
            "      Successfully uninstalled matplotlib-3.10.0\n",
            "Successfully installed cirq-core-1.4.1 deprecation-2.1.0 duet-0.2.9 matplotlib-3.8.4 openfermion-1.6.1 openfermionpyscf-0.5 pubchempy-1.0.4 pyscf-2.8.0 scipy-1.13.0 sortedcontainers-2.4.0\n"
          ]
        },
        {
          "output_type": "display_data",
          "data": {
            "application/vnd.colab-display-data+json": {
              "pip_warning": {
                "packages": [
                  "matplotlib",
                  "mpl_toolkits"
                ]
              },
              "id": "c73f4085627745a9966c348e9f34193c"
            }
          },
          "metadata": {}
        }
      ]
    },
    {
      "cell_type": "code",
      "source": [
        "import cudaq\n",
        "import matplotlib.pyplot as plt\n",
        "from scipy.optimize import minimize\n",
        "import numpy as np\n",
        "\n",
        "# Single precision\n",
        "cudaq.set_target(\"nvidia\")\n",
        "# Double precision\n",
        "#cudaq.set_target(\"nvidia-fp64\")"
      ],
      "metadata": {
        "id": "dJur90hyatIz"
      },
      "execution_count": 1,
      "outputs": []
    },
    {
      "cell_type": "code",
      "source": [
        "# Number of hydrogen atoms.\n",
        "hydrogen_count = 2\n",
        "\n",
        "# Distance between the atoms in Angstroms.\n",
        "bond_distance = 0.7474\n",
        "\n",
        "# Define a linear chain of Hydrogen atoms\n",
        "geometry = [('H', (0, 0, i * bond_distance)) for i in range(hydrogen_count)]\n",
        "\n",
        "hamiltonian, data = cudaq.chemistry.create_molecular_hamiltonian(\n",
        "    geometry, 'sto-3g', 1, 0)\n",
        "\n",
        "electron_count = data.n_electrons\n",
        "qubit_count = 2 * data.n_orbitals"
      ],
      "metadata": {
        "id": "o65ZBohvbCSc"
      },
      "execution_count": 2,
      "outputs": []
    },
    {
      "cell_type": "code",
      "source": [
        "@cudaq.kernel\n",
        "def kernel(thetas: list[float]):\n",
        "\n",
        "    qubits = cudaq.qvector(qubit_count)\n",
        "\n",
        "    for i in range(electron_count):\n",
        "        x(qubits[i])\n",
        "\n",
        "    cudaq.kernels.uccsd(qubits, thetas, electron_count, qubit_count)\n",
        "\n",
        "\n",
        "parameter_count = cudaq.kernels.uccsd_num_parameters(electron_count,\n",
        "                                                     qubit_count)"
      ],
      "metadata": {
        "id": "ArxyE_XpbFMu"
      },
      "execution_count": 3,
      "outputs": []
    },
    {
      "cell_type": "code",
      "source": [
        "optimizer = cudaq.optimizers.COBYLA()\n",
        "\n",
        "energy, parameters = cudaq.vqe(kernel,\n",
        "                               hamiltonian,\n",
        "                               optimizer,\n",
        "                               parameter_count=parameter_count)\n",
        "\n",
        "print(energy)"
      ],
      "metadata": {
        "colab": {
          "base_uri": "https://localhost:8080/"
        },
        "id": "8F9ukpL2bIoK",
        "outputId": "f456fcdb-6695-4583-dcb7-93c55f4e0706"
      },
      "execution_count": 4,
      "outputs": [
        {
          "output_type": "stream",
          "name": "stdout",
          "text": [
            "-1.1371740035195184\n"
          ]
        }
      ]
    },
    {
      "cell_type": "code",
      "source": [
        "# Define a function to minimize\n",
        "def cost(theta):\n",
        "\n",
        "    exp_val = cudaq.observe(kernel, hamiltonian, theta).expectation()\n",
        "\n",
        "    return exp_val\n",
        "\n",
        "\n",
        "exp_vals = []\n",
        "\n",
        "\n",
        "def callback(xk):\n",
        "    exp_vals.append(cost(xk))\n",
        "\n",
        "\n",
        "# Initial variational parameters.\n",
        "np.random.seed(42)\n",
        "x0 = np.random.normal(0, np.pi, parameter_count)\n",
        "\n",
        "# Use the scipy optimizer to minimize the function of interest\n",
        "result = minimize(cost,\n",
        "                  x0,\n",
        "                  method='COBYLA',\n",
        "                  callback=callback,\n",
        "                  options={'maxiter': 40})\n",
        "\n",
        "plt.plot(exp_vals)\n",
        "plt.xlabel('Epochs')\n",
        "plt.ylabel('Energy')\n",
        "plt.title('VQE')\n",
        "plt.show()"
      ],
      "metadata": {
        "colab": {
          "base_uri": "https://localhost:8080/",
          "height": 472
        },
        "id": "POOs7TLzbOlg",
        "outputId": "b831a70b-9fe3-4229-9b7e-073d40e48088"
      },
      "execution_count": 5,
      "outputs": [
        {
          "output_type": "display_data",
          "data": {
            "text/plain": [
              "<Figure size 640x480 with 1 Axes>"
            ],
            "image/png": "[encoded data removed]"
          },
          "metadata": {}
        }
      ]
    }
  ]
}